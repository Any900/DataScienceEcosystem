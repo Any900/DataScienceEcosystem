{
 "cells": [
  {
   "cell_type": "markdown",
   "id": "0320c333-ecb7-4d7b-98aa-805cfef288e1",
   "metadata": {},
   "source": [
    "# Data Science Tools and Ecosystem"
   ]
  },
  {
   "cell_type": "markdown",
   "id": "3aa495e1-e20f-483c-b089-93f5bd94f17f",
   "metadata": {},
   "source": [
    "In this notebook, Data Science Tools and Ecosystem are summarized."
   ]
  },
  {
   "cell_type": "markdown",
   "id": "dbe061ff-e5aa-473f-a6b5-4a934a262624",
   "metadata": {},
   "source": [
    "**Objectives:**\n",
    "- List of popular Languages\n",
    "- Libraries used in Data Science\n",
    "- Data Science tools\n",
    "- Simple aritmetic expressions"
   ]
  },
  {
   "cell_type": "markdown",
   "id": "0a13c4d8-3fa8-423e-b6e5-def60851fba4",
   "metadata": {},
   "source": [
    "Some of the popular languages that Data Scientists use are:\n",
    "1. Python\n",
    "2. R\n",
    "3. SQL\n",
    "4. Julia\n"
   ]
  },
  {
   "cell_type": "markdown",
   "id": "656661f1-4a19-45dd-afe6-958b7d597841",
   "metadata": {},
   "source": [
    "Some of the commonly used libraries used by Data Scientists include:\n",
    "1. Pandas\n",
    "2. Matplotlib\n",
    "3. NumPy\n",
    "4. TensorFlow "
   ]
  },
  {
   "cell_type": "markdown",
   "id": "aaca3ba0-5038-4599-a031-3fb7780437fd",
   "metadata": {},
   "source": [
    "|Data Science Tools|\n",
    "|------|\n",
    "|Jupyter Notebook|\n",
    "|RStudio|\n",
    "|Apache Zeppelin|"
   ]
  },
  {
   "cell_type": "markdown",
   "id": "335a9a4d-4937-4160-9762-9e86d6e75a1a",
   "metadata": {},
   "source": [
    "### Below are a few examples of evaluating arithmetic expressions in Python"
   ]
  },
  {
   "cell_type": "markdown",
   "id": "26bf146c-3192-4799-830a-dcc060b9d5f4",
   "metadata": {},
   "source": [
    "This a simple arithmetic expression to mutiply then add integers"
   ]
  },
  {
   "cell_type": "code",
   "execution_count": 2,
   "id": "fb006aac-bad2-4021-980b-972496a3dd5e",
   "metadata": {},
   "outputs": [
    {
     "data": {
      "text/plain": [
       "17"
      ]
     },
     "execution_count": 2,
     "metadata": {},
     "output_type": "execute_result"
    }
   ],
   "source": [
    "(3*4)+5"
   ]
  },
  {
   "cell_type": "markdown",
   "id": "85e235e8-bddb-404f-be70-3e1017fc5942",
   "metadata": {},
   "source": [
    "This will convert 200 minutes to hours by diving by 60."
   ]
  },
  {
   "cell_type": "code",
   "execution_count": 3,
   "id": "98d0b290-e85f-4e71-8004-4fdf5b594193",
   "metadata": {},
   "outputs": [
    {
     "data": {
      "text/plain": [
       "3.3333333333333335"
      ]
     },
     "execution_count": 3,
     "metadata": {},
     "output_type": "execute_result"
    }
   ],
   "source": [
    "200/60"
   ]
  },
  {
   "cell_type": "markdown",
   "id": "0943ee6b-ffb7-4fd3-938f-d87c580403b5",
   "metadata": {},
   "source": [
    "## Author\n",
    "Ana Lis Garcia"
   ]
  }
 ],
 "metadata": {
  "kernelspec": {
   "display_name": "Python 3 (ipykernel)",
   "language": "python",
   "name": "python3"
  },
  "language_info": {
   "codemirror_mode": {
    "name": "ipython",
    "version": 3
   },
   "file_extension": ".py",
   "mimetype": "text/x-python",
   "name": "python",
   "nbconvert_exporter": "python",
   "pygments_lexer": "ipython3",
   "version": "3.11.9"
  }
 },
 "nbformat": 4,
 "nbformat_minor": 5
}
